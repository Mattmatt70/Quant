{
  "nbformat": 4,
  "nbformat_minor": 0,
  "metadata": {
    "colab": {
      "provenance": []
    },
    "kernelspec": {
      "name": "python3",
      "display_name": "Python 3"
    },
    "language_info": {
      "name": "python"
    }
  },
  "cells": [
    {
      "cell_type": "code",
      "execution_count": null,
      "metadata": {
        "id": "jgVC6uQwGv0x"
      },
      "outputs": [],
      "source": [
        "import math\n",
        "import numpy as np\n",
        "from scipy.stats import norm\n"
      ]
    },
    {
      "cell_type": "code",
      "source": [
        "from scipy.stats.distributions import ncx2\n",
        "def CallPrice(S, sigma, K, T, r):\n",
        "  d1 = (math.log(S / K) + (r+ .5 * sigma **2) * T) / (sigma * T**.5)\n",
        "  d2 = d1 - sigma * T**.05\n",
        "  n1 = norm.cdf(d1)\n",
        "  n2 = norm.cdf(d2)\n",
        "  DF = math.exp(-r * T)\n",
        "  price = S * n1 - K * DF * n2\n",
        "  return price"
      ],
      "metadata": {
        "id": "X9um7Gh3HNWG"
      },
      "execution_count": null,
      "outputs": []
    },
    {
      "cell_type": "code",
      "source": [
        "S = 100\n",
        "K = 105\n",
        "T = .5\n",
        "r = .02\n",
        "vol = .2\n",
        "\n",
        "print (np.round(CallPrice(S, vol, K, T, r), 3))"
      ],
      "metadata": {
        "colab": {
          "base_uri": "https://localhost:8080/"
        },
        "id": "XCXoFTFLIu1W",
        "outputId": "6caad17b-6a89-4702-db01-e915251c767e"
      },
      "execution_count": null,
      "outputs": [
        {
          "output_type": "stream",
          "name": "stdout",
          "text": [
            "5.99\n"
          ]
        }
      ]
    },
    {
      "cell_type": "code",
      "source": [
        "def newton_step(f, x0):\n",
        "    def df(x):\n",
        "        dx = 0.00001\n",
        "        return (f(x + dx)-f(x)) / dx\n",
        "    return x0 - f(x0)/df(x0)\n",
        "def newton(f,x0,tol):\n",
        "    while (abs(newton_step(f,x0) - x0) > tol):\n",
        "        x0 = newton_step(f, x0)\n",
        "    return x0"
      ],
      "metadata": {
        "id": "u2CCL-OZJrVU"
      },
      "execution_count": null,
      "outputs": []
    },
    {
      "cell_type": "code",
      "source": [
        "#Call Price(vol) - TargetPrice\n",
        "CallPriceVol = lambda vol: CallPrice(S, vol, K, T, r) - C"
      ],
      "metadata": {
        "id": "f83nvMp8K2VU"
      },
      "execution_count": null,
      "outputs": []
    },
    {
      "cell_type": "code",
      "source": [
        "C = CallPrice(S, vol, K, T, r)\n",
        "init = .1\n",
        "tol = 10**-8\n",
        "print(newton(CallPriceVol, init, tol))"
      ],
      "metadata": {
        "colab": {
          "base_uri": "https://localhost:8080/"
        },
        "id": "wDKK1gEyLJJR",
        "outputId": "ce91d985-54ee-40d1-e479-1131f0042b6b"
      },
      "execution_count": null,
      "outputs": [
        {
          "output_type": "stream",
          "name": "stdout",
          "text": [
            "0.20000000000050236\n"
          ]
        }
      ]
    },
    {
      "cell_type": "code",
      "source": [
        "x0 = init\n",
        "for i in range(0, 4):\n",
        "    print(x0)\n",
        "    x0 = newton_step(CallPriceVol, x0)"
      ],
      "metadata": {
        "colab": {
          "base_uri": "https://localhost:8080/"
        },
        "id": "ig-_7585LpGV",
        "outputId": "82f7f444-37b7-4bf0-e583-9a2461448718"
      },
      "execution_count": null,
      "outputs": [
        {
          "output_type": "stream",
          "name": "stdout",
          "text": [
            "0.1\n",
            "0.20361171506797549\n",
            "0.20000075886588\n",
            "0.20000000000050236\n"
          ]
        }
      ]
    }
  ]
}