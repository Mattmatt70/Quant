{
  "nbformat": 4,
  "nbformat_minor": 0,
  "metadata": {
    "colab": {
      "provenance": []
    },
    "kernelspec": {
      "name": "python3",
      "display_name": "Python 3"
    },
    "language_info": {
      "name": "python"
    }
  },
  "cells": [
    {
      "cell_type": "code",
      "execution_count": null,
      "metadata": {
        "id": "99J5rHwNynjP"
      },
      "outputs": [],
      "source": [
        "import matplotlib.pyplot as plt\n",
        "plt.style.use('ggplot')\n",
        "import math\n",
        "import numpy as np\n",
        "import pandas as pd\n",
        "from scipy.stats import norm\n",
        "import ipywidgets as wwidgets\n",
        "%matplotlib inline"
      ]
    },
    {
      "cell_type": "code",
      "source": [
        "class EuropeanOptionBS:\n",
        "\n",
        "  def __init__(self, S, K, T, r, q, sigma, Type):\n",
        "    self.S = S\n",
        "    self.K = K\n",
        "    self.T = T\n",
        "    self.r = r\n",
        "    self.q = q\n",
        "    self.sigma = sigma\n",
        "    self.Type = Type\n",
        "    self.d1 = self.calculate_d1()\n",
        "    self.d2 = self.calculate_d2()\n",
        "    self.price = self.calculate_price()\n",
        "\n",
        "  def calculate_d1(self):\n",
        "    d1 = (math.log(self.S / self.K) + (self.r - self.q + 0.5 * self.sigma**2) * self.T) / (self.sigma * math.sqrt(self.T))\n",
        "    return d1\n",
        "\n",
        "  def calculate_d2(self):\n",
        "    d2 = self.d1 - self.sigma * math.sqrt(self.T)\n",
        "    return d2\n",
        "\n",
        "  def calculate_price(self):\n",
        "    if self.Type == \"Call\":\n",
        "        price = self.S * math.exp(-self.q * self.T) * norm.cdf(self.d1) - self.K * math.exp(-self.r * self.T) * norm.cdf(self.d2)\n",
        "    elif self.Type == \"Put\":\n",
        "        price = self.K * math.exp(-self.r * self.T) * norm.cdf(-self.d2) - self.S * math.exp(-self.q * self.T) * norm.cdf(-self.d1)\n",
        "    else:\n",
        "        raise ValueError(\"Invalid option type. Must be 'Call' or 'Put'.\")\n",
        "    return price\n",
        "\n",
        "# Parameters\n",
        "S = 120\n",
        "K = 80\n",
        "T = 1\n",
        "r = 0.05\n",
        "q = 0\n",
        "sigma = 0.3\n",
        "\n",
        "# Call-put parity\n",
        "ec = EuropeanOptionBS(S, K, T, r, q, sigma, \"Call\")\n",
        "ep = EuropeanOptionBS(S, K, T, r, q, sigma, \"Put\")\n",
        "CallPut = S * math.exp(-q * T) - K * math.exp(-r * T)\n",
        "\n",
        "print(\"Call price: \" + str(ec.price))\n",
        "print(\"Put price: \" + str(ep.price))\n",
        "print(\"Call - Put parity formula: \" + str(round(CallPut, 5)))"
      ],
      "metadata": {
        "colab": {
          "base_uri": "https://localhost:8080/"
        },
        "id": "VhSkrpbMyvHJ",
        "outputId": "0cb27568-3bb7-4653-eb7d-60d46e4e3019"
      },
      "execution_count": null,
      "outputs": [
        {
          "output_type": "stream",
          "name": "stdout",
          "text": [
            "Call price: 44.70098601974334\n",
            "Put price: 0.7993399798004717\n",
            "Call - Put parity formula: 43.90165\n"
          ]
        }
      ]
    }
  ]
}