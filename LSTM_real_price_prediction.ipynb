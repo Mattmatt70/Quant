{
  "nbformat": 4,
  "nbformat_minor": 0,
  "metadata": {
    "colab": {
      "provenance": []
    },
    "kernelspec": {
      "name": "python3",
      "display_name": "Python 3"
    },
    "language_info": {
      "name": "python"
    }
  },
  "cells": [
    {
      "cell_type": "code",
      "execution_count": null,
      "metadata": {
        "colab": {
          "base_uri": "https://localhost:8080/",
          "height": 375
        },
        "id": "jiFl5EtbfA-n",
        "outputId": "94ad70fc-f7d2-4069-e033-86de52a23dda"
      },
      "outputs": [
        {
          "output_type": "stream",
          "name": "stderr",
          "text": [
            "\r[*********************100%%**********************]  1 of 1 completed\n"
          ]
        },
        {
          "output_type": "execute_result",
          "data": {
            "text/plain": [
              "                 Open       High        Low      Close  Adj Close    Volume\n",
              "Date                                                                       \n",
              "2019-01-02  51.360001  53.039501  51.264000  52.734001  52.734001  31868000\n",
              "2019-01-03  52.533501  53.313000  51.118500  51.273499  51.273499  41960000\n",
              "2019-01-04  52.127998  54.000000  51.842999  53.903500  53.903500  46022000\n",
              "2019-01-07  54.048500  54.134998  53.132000  53.796001  53.796001  47446000\n",
              "2019-01-08  54.299999  54.667500  53.417500  54.268501  54.268501  35414000"
            ],
            "text/html": [
              "\n",
              "  <div id=\"df-791ef074-72be-4731-b98c-c6d370540ffa\" class=\"colab-df-container\">\n",
              "    <div>\n",
              "<style scoped>\n",
              "    .dataframe tbody tr th:only-of-type {\n",
              "        vertical-align: middle;\n",
              "    }\n",
              "\n",
              "    .dataframe tbody tr th {\n",
              "        vertical-align: top;\n",
              "    }\n",
              "\n",
              "    .dataframe thead th {\n",
              "        text-align: right;\n",
              "    }\n",
              "</style>\n",
              "<table border=\"1\" class=\"dataframe\">\n",
              "  <thead>\n",
              "    <tr style=\"text-align: right;\">\n",
              "      <th></th>\n",
              "      <th>Open</th>\n",
              "      <th>High</th>\n",
              "      <th>Low</th>\n",
              "      <th>Close</th>\n",
              "      <th>Adj Close</th>\n",
              "      <th>Volume</th>\n",
              "    </tr>\n",
              "    <tr>\n",
              "      <th>Date</th>\n",
              "      <th></th>\n",
              "      <th></th>\n",
              "      <th></th>\n",
              "      <th></th>\n",
              "      <th></th>\n",
              "      <th></th>\n",
              "    </tr>\n",
              "  </thead>\n",
              "  <tbody>\n",
              "    <tr>\n",
              "      <th>2019-01-02</th>\n",
              "      <td>51.360001</td>\n",
              "      <td>53.039501</td>\n",
              "      <td>51.264000</td>\n",
              "      <td>52.734001</td>\n",
              "      <td>52.734001</td>\n",
              "      <td>31868000</td>\n",
              "    </tr>\n",
              "    <tr>\n",
              "      <th>2019-01-03</th>\n",
              "      <td>52.533501</td>\n",
              "      <td>53.313000</td>\n",
              "      <td>51.118500</td>\n",
              "      <td>51.273499</td>\n",
              "      <td>51.273499</td>\n",
              "      <td>41960000</td>\n",
              "    </tr>\n",
              "    <tr>\n",
              "      <th>2019-01-04</th>\n",
              "      <td>52.127998</td>\n",
              "      <td>54.000000</td>\n",
              "      <td>51.842999</td>\n",
              "      <td>53.903500</td>\n",
              "      <td>53.903500</td>\n",
              "      <td>46022000</td>\n",
              "    </tr>\n",
              "    <tr>\n",
              "      <th>2019-01-07</th>\n",
              "      <td>54.048500</td>\n",
              "      <td>54.134998</td>\n",
              "      <td>53.132000</td>\n",
              "      <td>53.796001</td>\n",
              "      <td>53.796001</td>\n",
              "      <td>47446000</td>\n",
              "    </tr>\n",
              "    <tr>\n",
              "      <th>2019-01-08</th>\n",
              "      <td>54.299999</td>\n",
              "      <td>54.667500</td>\n",
              "      <td>53.417500</td>\n",
              "      <td>54.268501</td>\n",
              "      <td>54.268501</td>\n",
              "      <td>35414000</td>\n",
              "    </tr>\n",
              "  </tbody>\n",
              "</table>\n",
              "</div>\n",
              "    <div class=\"colab-df-buttons\">\n",
              "\n",
              "  <div class=\"colab-df-container\">\n",
              "    <button class=\"colab-df-convert\" onclick=\"convertToInteractive('df-791ef074-72be-4731-b98c-c6d370540ffa')\"\n",
              "            title=\"Convert this dataframe to an interactive table.\"\n",
              "            style=\"display:none;\">\n",
              "\n",
              "  <svg xmlns=\"http://www.w3.org/2000/svg\" height=\"24px\" viewBox=\"0 -960 960 960\">\n",
              "    <path d=\"M120-120v-720h720v720H120Zm60-500h600v-160H180v160Zm220 220h160v-160H400v160Zm0 220h160v-160H400v160ZM180-400h160v-160H180v160Zm440 0h160v-160H620v160ZM180-180h160v-160H180v160Zm440 0h160v-160H620v160Z\"/>\n",
              "  </svg>\n",
              "    </button>\n",
              "\n",
              "  <style>\n",
              "    .colab-df-container {\n",
              "      display:flex;\n",
              "      gap: 12px;\n",
              "    }\n",
              "\n",
              "    .colab-df-convert {\n",
              "      background-color: #E8F0FE;\n",
              "      border: none;\n",
              "      border-radius: 50%;\n",
              "      cursor: pointer;\n",
              "      display: none;\n",
              "      fill: #1967D2;\n",
              "      height: 32px;\n",
              "      padding: 0 0 0 0;\n",
              "      width: 32px;\n",
              "    }\n",
              "\n",
              "    .colab-df-convert:hover {\n",
              "      background-color: #E2EBFA;\n",
              "      box-shadow: 0px 1px 2px rgba(60, 64, 67, 0.3), 0px 1px 3px 1px rgba(60, 64, 67, 0.15);\n",
              "      fill: #174EA6;\n",
              "    }\n",
              "\n",
              "    .colab-df-buttons div {\n",
              "      margin-bottom: 4px;\n",
              "    }\n",
              "\n",
              "    [theme=dark] .colab-df-convert {\n",
              "      background-color: #3B4455;\n",
              "      fill: #D2E3FC;\n",
              "    }\n",
              "\n",
              "    [theme=dark] .colab-df-convert:hover {\n",
              "      background-color: #434B5C;\n",
              "      box-shadow: 0px 1px 3px 1px rgba(0, 0, 0, 0.15);\n",
              "      filter: drop-shadow(0px 1px 2px rgba(0, 0, 0, 0.3));\n",
              "      fill: #FFFFFF;\n",
              "    }\n",
              "  </style>\n",
              "\n",
              "    <script>\n",
              "      const buttonEl =\n",
              "        document.querySelector('#df-791ef074-72be-4731-b98c-c6d370540ffa button.colab-df-convert');\n",
              "      buttonEl.style.display =\n",
              "        google.colab.kernel.accessAllowed ? 'block' : 'none';\n",
              "\n",
              "      async function convertToInteractive(key) {\n",
              "        const element = document.querySelector('#df-791ef074-72be-4731-b98c-c6d370540ffa');\n",
              "        const dataTable =\n",
              "          await google.colab.kernel.invokeFunction('convertToInteractive',\n",
              "                                                    [key], {});\n",
              "        if (!dataTable) return;\n",
              "\n",
              "        const docLinkHtml = 'Like what you see? Visit the ' +\n",
              "          '<a target=\"_blank\" href=https://colab.research.google.com/notebooks/data_table.ipynb>data table notebook</a>'\n",
              "          + ' to learn more about interactive tables.';\n",
              "        element.innerHTML = '';\n",
              "        dataTable['output_type'] = 'display_data';\n",
              "        await google.colab.output.renderOutput(dataTable, element);\n",
              "        const docLink = document.createElement('div');\n",
              "        docLink.innerHTML = docLinkHtml;\n",
              "        element.appendChild(docLink);\n",
              "      }\n",
              "    </script>\n",
              "  </div>\n",
              "\n",
              "\n",
              "<div id=\"df-351ffa15-a304-436c-b69d-a6e5389ce58e\">\n",
              "  <button class=\"colab-df-quickchart\" onclick=\"quickchart('df-351ffa15-a304-436c-b69d-a6e5389ce58e')\"\n",
              "            title=\"Suggest charts\"\n",
              "            style=\"display:none;\">\n",
              "\n",
              "<svg xmlns=\"http://www.w3.org/2000/svg\" height=\"24px\"viewBox=\"0 0 24 24\"\n",
              "     width=\"24px\">\n",
              "    <g>\n",
              "        <path d=\"M19 3H5c-1.1 0-2 .9-2 2v14c0 1.1.9 2 2 2h14c1.1 0 2-.9 2-2V5c0-1.1-.9-2-2-2zM9 17H7v-7h2v7zm4 0h-2V7h2v10zm4 0h-2v-4h2v4z\"/>\n",
              "    </g>\n",
              "</svg>\n",
              "  </button>\n",
              "\n",
              "<style>\n",
              "  .colab-df-quickchart {\n",
              "      --bg-color: #E8F0FE;\n",
              "      --fill-color: #1967D2;\n",
              "      --hover-bg-color: #E2EBFA;\n",
              "      --hover-fill-color: #174EA6;\n",
              "      --disabled-fill-color: #AAA;\n",
              "      --disabled-bg-color: #DDD;\n",
              "  }\n",
              "\n",
              "  [theme=dark] .colab-df-quickchart {\n",
              "      --bg-color: #3B4455;\n",
              "      --fill-color: #D2E3FC;\n",
              "      --hover-bg-color: #434B5C;\n",
              "      --hover-fill-color: #FFFFFF;\n",
              "      --disabled-bg-color: #3B4455;\n",
              "      --disabled-fill-color: #666;\n",
              "  }\n",
              "\n",
              "  .colab-df-quickchart {\n",
              "    background-color: var(--bg-color);\n",
              "    border: none;\n",
              "    border-radius: 50%;\n",
              "    cursor: pointer;\n",
              "    display: none;\n",
              "    fill: var(--fill-color);\n",
              "    height: 32px;\n",
              "    padding: 0;\n",
              "    width: 32px;\n",
              "  }\n",
              "\n",
              "  .colab-df-quickchart:hover {\n",
              "    background-color: var(--hover-bg-color);\n",
              "    box-shadow: 0 1px 2px rgba(60, 64, 67, 0.3), 0 1px 3px 1px rgba(60, 64, 67, 0.15);\n",
              "    fill: var(--button-hover-fill-color);\n",
              "  }\n",
              "\n",
              "  .colab-df-quickchart-complete:disabled,\n",
              "  .colab-df-quickchart-complete:disabled:hover {\n",
              "    background-color: var(--disabled-bg-color);\n",
              "    fill: var(--disabled-fill-color);\n",
              "    box-shadow: none;\n",
              "  }\n",
              "\n",
              "  .colab-df-spinner {\n",
              "    border: 2px solid var(--fill-color);\n",
              "    border-color: transparent;\n",
              "    border-bottom-color: var(--fill-color);\n",
              "    animation:\n",
              "      spin 1s steps(1) infinite;\n",
              "  }\n",
              "\n",
              "  @keyframes spin {\n",
              "    0% {\n",
              "      border-color: transparent;\n",
              "      border-bottom-color: var(--fill-color);\n",
              "      border-left-color: var(--fill-color);\n",
              "    }\n",
              "    20% {\n",
              "      border-color: transparent;\n",
              "      border-left-color: var(--fill-color);\n",
              "      border-top-color: var(--fill-color);\n",
              "    }\n",
              "    30% {\n",
              "      border-color: transparent;\n",
              "      border-left-color: var(--fill-color);\n",
              "      border-top-color: var(--fill-color);\n",
              "      border-right-color: var(--fill-color);\n",
              "    }\n",
              "    40% {\n",
              "      border-color: transparent;\n",
              "      border-right-color: var(--fill-color);\n",
              "      border-top-color: var(--fill-color);\n",
              "    }\n",
              "    60% {\n",
              "      border-color: transparent;\n",
              "      border-right-color: var(--fill-color);\n",
              "    }\n",
              "    80% {\n",
              "      border-color: transparent;\n",
              "      border-right-color: var(--fill-color);\n",
              "      border-bottom-color: var(--fill-color);\n",
              "    }\n",
              "    90% {\n",
              "      border-color: transparent;\n",
              "      border-bottom-color: var(--fill-color);\n",
              "    }\n",
              "  }\n",
              "</style>\n",
              "\n",
              "  <script>\n",
              "    async function quickchart(key) {\n",
              "      const quickchartButtonEl =\n",
              "        document.querySelector('#' + key + ' button');\n",
              "      quickchartButtonEl.disabled = true;  // To prevent multiple clicks.\n",
              "      quickchartButtonEl.classList.add('colab-df-spinner');\n",
              "      try {\n",
              "        const charts = await google.colab.kernel.invokeFunction(\n",
              "            'suggestCharts', [key], {});\n",
              "      } catch (error) {\n",
              "        console.error('Error during call to suggestCharts:', error);\n",
              "      }\n",
              "      quickchartButtonEl.classList.remove('colab-df-spinner');\n",
              "      quickchartButtonEl.classList.add('colab-df-quickchart-complete');\n",
              "    }\n",
              "    (() => {\n",
              "      let quickchartButtonEl =\n",
              "        document.querySelector('#df-351ffa15-a304-436c-b69d-a6e5389ce58e button');\n",
              "      quickchartButtonEl.style.display =\n",
              "        google.colab.kernel.accessAllowed ? 'block' : 'none';\n",
              "    })();\n",
              "  </script>\n",
              "</div>\n",
              "    </div>\n",
              "  </div>\n"
            ],
            "application/vnd.google.colaboratory.intrinsic+json": {
              "type": "dataframe",
              "variable_name": "data",
              "summary": "{\n  \"name\": \"data\",\n  \"rows\": 1304,\n  \"fields\": [\n    {\n      \"column\": \"Date\",\n      \"properties\": {\n        \"dtype\": \"date\",\n        \"min\": \"2019-01-02 00:00:00\",\n        \"max\": \"2024-03-07 00:00:00\",\n        \"num_unique_values\": 1304,\n        \"samples\": [\n          \"2023-08-29 00:00:00\",\n          \"2021-01-15 00:00:00\",\n          \"2022-05-06 00:00:00\"\n        ],\n        \"semantic_type\": \"\",\n        \"description\": \"\"\n      }\n    },\n    {\n      \"column\": \"Open\",\n      \"properties\": {\n        \"dtype\": \"number\",\n        \"std\": 30.322108413876148,\n        \"min\": 51.36000061035156,\n        \"max\": 152.8000030517578,\n        \"num_unique_values\": 1274,\n        \"samples\": [\n          56.37350082397461,\n          121.99449920654297,\n          62.14149856567383\n        ],\n        \"semantic_type\": \"\",\n        \"description\": \"\"\n      }\n    },\n    {\n      \"column\": \"High\",\n      \"properties\": {\n        \"dtype\": \"number\",\n        \"std\": 30.59935121291226,\n        \"min\": 52.5,\n        \"max\": 153.77999877929688,\n        \"num_unique_values\": 1274,\n        \"samples\": [\n          57.5525016784668,\n          123.05549621582031,\n          62.2495002746582\n        ],\n        \"semantic_type\": \"\",\n        \"description\": \"\"\n      }\n    },\n    {\n      \"column\": \"Low\",\n      \"properties\": {\n        \"dtype\": \"number\",\n        \"std\": 30.00586469970425,\n        \"min\": 50.44350051879883,\n        \"max\": 151.42999267578125,\n        \"num_unique_values\": 1278,\n        \"samples\": [\n          62.98550033569336,\n          73.12300109863281,\n          128.9600067138672\n        ],\n        \"semantic_type\": \"\",\n        \"description\": \"\"\n      }\n    },\n    {\n      \"column\": \"Close\",\n      \"properties\": {\n        \"dtype\": \"number\",\n        \"std\": 30.29412029986976,\n        \"min\": 51.27349853515625,\n        \"max\": 153.50999450683594,\n        \"num_unique_values\": 1283,\n        \"samples\": [\n          138.83999633789062,\n          142.27999877929688,\n          74.12999725341797\n        ],\n        \"semantic_type\": \"\",\n        \"description\": \"\"\n      }\n    },\n    {\n      \"column\": \"Adj Close\",\n      \"properties\": {\n        \"dtype\": \"number\",\n        \"std\": 30.29412029986976,\n        \"min\": 51.27349853515625,\n        \"max\": 153.50999450683594,\n        \"num_unique_values\": 1283,\n        \"samples\": [\n          138.83999633789062,\n          142.27999877929688,\n          74.12999725341797\n        ],\n        \"semantic_type\": \"\",\n        \"description\": \"\"\n      }\n    },\n    {\n      \"column\": \"Volume\",\n      \"properties\": {\n        \"dtype\": \"number\",\n        \"std\": 14879550,\n        \"min\": 9312000,\n        \"max\": 133178000,\n        \"num_unique_values\": 1288,\n        \"samples\": [\n          21692600,\n          27786600,\n          39758000\n        ],\n        \"semantic_type\": \"\",\n        \"description\": \"\"\n      }\n    }\n  ]\n}"
            }
          },
          "metadata": {},
          "execution_count": 2
        }
      ],
      "source": [
        "import yfinance as yf\n",
        "import numpy as np\n",
        "import pandas as pd\n",
        "import tensorflow as tf\n",
        "import matplotlib.pyplot as plt\n",
        "\n",
        "data = yf.download(\"GOOGL\" , start = \"2019-01-01\" , interval = '1d')\n",
        "data.head()\n",
        "\n"
      ]
    },
    {
      "cell_type": "code",
      "source": [
        "data.info()"
      ],
      "metadata": {
        "colab": {
          "base_uri": "https://localhost:8080/"
        },
        "id": "sfDExPz5fr14",
        "outputId": "9971b4e0-6455-4954-aea9-19379802cfbe"
      },
      "execution_count": null,
      "outputs": [
        {
          "output_type": "stream",
          "name": "stdout",
          "text": [
            "<class 'pandas.core.frame.DataFrame'>\n",
            "DatetimeIndex: 1304 entries, 2019-01-02 to 2024-03-07\n",
            "Data columns (total 6 columns):\n",
            " #   Column     Non-Null Count  Dtype  \n",
            "---  ------     --------------  -----  \n",
            " 0   Open       1304 non-null   float64\n",
            " 1   High       1304 non-null   float64\n",
            " 2   Low        1304 non-null   float64\n",
            " 3   Close      1304 non-null   float64\n",
            " 4   Adj Close  1304 non-null   float64\n",
            " 5   Volume     1304 non-null   int64  \n",
            "dtypes: float64(5), int64(1)\n",
            "memory usage: 71.3 KB\n"
          ]
        }
      ]
    },
    {
      "cell_type": "code",
      "source": [
        "data[\"Close\"]=pd.to_numeric(data.Close,errors='coerce')\n",
        "data.isnull().sum().sum()\n"
      ],
      "metadata": {
        "colab": {
          "base_uri": "https://localhost:8080/"
        },
        "id": "goOsf3AcfyCi",
        "outputId": "1d060494-9a10-4f69-993a-c97e06ba1123"
      },
      "execution_count": null,
      "outputs": [
        {
          "output_type": "execute_result",
          "data": {
            "text/plain": [
              "0"
            ]
          },
          "metadata": {},
          "execution_count": 4
        }
      ]
    },
    {
      "cell_type": "code",
      "source": [
        "data[\"Close\"]=pd.to_numeric (data.Close,errors='coerce')"
      ],
      "metadata": {
        "id": "HhkEljtlf5dQ"
      },
      "execution_count": null,
      "outputs": []
    },
    {
      "cell_type": "code",
      "source": [
        "data.isnull().sum().sum()"
      ],
      "metadata": {
        "colab": {
          "base_uri": "https://localhost:8080/"
        },
        "id": "iBmG7MBkgZ3w",
        "outputId": "016e814e-56dc-43af-a5a5-9c4b775afbcc"
      },
      "execution_count": null,
      "outputs": [
        {
          "output_type": "execute_result",
          "data": {
            "text/plain": [
              "0"
            ]
          },
          "metadata": {},
          "execution_count": 10
        }
      ]
    },
    {
      "cell_type": "code",
      "source": [
        "plt.plot(data.index, data['Close'], color='green', label='Close')\n",
        "plt.show()"
      ],
      "metadata": {
        "colab": {
          "base_uri": "https://localhost:8080/",
          "height": 251
        },
        "id": "8gC6YEu7gnlt",
        "outputId": "7fddeb13-0e5a-4397-a528-c433d9d325d7"
      },
      "execution_count": null,
      "outputs": [
        {
          "output_type": "display_data",
          "data": {
            "text/plain": [
              "<Figure size 640x480 with 1 Axes>"
            ],
            "image/png": "[encoded data removed]"
          },
          "metadata": {}
        }
      ]
    },
    {
      "cell_type": "code",
      "source": [
        "dataV1 = data.iloc[:,3:4]\n",
        "dataV1 = dataV1.values"
      ],
      "metadata": {
        "id": "r8wiK-DYg2uQ"
      },
      "execution_count": null,
      "outputs": []
    },
    {
      "cell_type": "code",
      "source": [
        "from sklearn.preprocessing import MinMaxScaler\n",
        "Scaler = MinMaxScaler(feature_range=(0,1))\n",
        "dataV1 = Scaler.fit_transform(dataV1)\n"
      ],
      "metadata": {
        "id": "Cv2YjITQg6ho"
      },
      "execution_count": null,
      "outputs": []
    },
    {
      "cell_type": "code",
      "source": [
        "feature_length = 100"
      ],
      "metadata": {
        "id": "c6WhGDrKg_6F"
      },
      "execution_count": null,
      "outputs": []
    },
    {
      "cell_type": "code",
      "source": [
        "# Function to create x and y data\n",
        "def Create_Features_and_Targets(data, feature_length):\n",
        "  X = list()\n",
        "  Y = list()\n",
        "  for i in range(len(data) - feature_length -1):\n",
        "    X.append(data[i:(i + feature_length), 0])\n",
        "    Y.append(data[i + feature_length, 0])\n",
        "  X = np.array(X)\n",
        "  Y = np.array(Y)\n",
        "  return X,Y\n",
        "# calling the function\n",
        "X_train,y_train= Create_Features_and_Targets(dataV1,feature_length)"
      ],
      "metadata": {
        "id": "fV4zD8DPhFLu"
      },
      "execution_count": null,
      "outputs": []
    },
    {
      "cell_type": "code",
      "source": [
        "X_train = np.reshape(X_train,(X_train.shape[0],X_train.shape[1],1))\n",
        "X_train.shape, y_train.shape\n"
      ],
      "metadata": {
        "colab": {
          "base_uri": "https://localhost:8080/"
        },
        "id": "slpqeytRhLTQ",
        "outputId": "4f84971d-873c-49da-83f8-8a9bb915e656"
      },
      "execution_count": null,
      "outputs": [
        {
          "output_type": "execute_result",
          "data": {
            "text/plain": [
              "((1203, 100, 1), (1203,))"
            ]
          },
          "metadata": {},
          "execution_count": 16
        }
      ]
    },
    {
      "cell_type": "code",
      "source": [
        "from tensorflow.keras.models import Sequential\n",
        "from tensorflow.keras.layers import Dense , Dropout , LSTM"
      ],
      "metadata": {
        "id": "D6PLz6sChVqd"
      },
      "execution_count": null,
      "outputs": []
    },
    {
      "cell_type": "code",
      "source": [
        "# model\n",
        "model = Sequential([\n",
        "   LSTM(100,return_sequences=True,input_shape=(X_train.shape[1],1)),\n",
        "   Dropout(0.3),\n",
        "   LSTM(100, return_sequences = False),\n",
        "   Dropout(0.3),\n",
        "\n",
        "   Dense(1),\n",
        "])\n",
        "model.compile(optimizer='adam',loss=\"mean_squared_error\")\n",
        "model.summary()\n"
      ],
      "metadata": {
        "colab": {
          "base_uri": "https://localhost:8080/"
        },
        "id": "3o-O0jFdhYBY",
        "outputId": "a7e3569a-1998-4c9b-adbf-9718f9ce7ec1"
      },
      "execution_count": null,
      "outputs": [
        {
          "output_type": "stream",
          "name": "stdout",
          "text": [
            "Model: \"sequential\"\n",
            "_________________________________________________________________\n",
            " Layer (type)                Output Shape              Param #   \n",
            "=================================================================\n",
            " lstm (LSTM)                 (None, 100, 100)          40800     \n",
            "                                                                 \n",
            " dropout (Dropout)           (None, 100, 100)          0         \n",
            "                                                                 \n",
            " lstm_1 (LSTM)               (None, 100)               80400     \n",
            "                                                                 \n",
            " dropout_1 (Dropout)         (None, 100)               0         \n",
            "                                                                 \n",
            " dense (Dense)               (None, 1)                 101       \n",
            "                                                                 \n",
            "=================================================================\n",
            "Total params: 121301 (473.83 KB)\n",
            "Trainable params: 121301 (473.83 KB)\n",
            "Non-trainable params: 0 (0.00 Byte)\n",
            "_________________________________________________________________\n"
          ]
        }
      ]
    },
    {
      "cell_type": "code",
      "source": [
        "# Training the model\n",
        "history = model.fit(\n",
        "    X_train,\n",
        "    y_train,\n",
        "    epochs = 100,\n",
        "    batch_size = 12,\n",
        "    verbose=1,\n",
        ")"
      ],
      "metadata": {
        "colab": {
          "base_uri": "https://localhost:8080/"
        },
        "id": "l-PzLjBahjsx",
        "outputId": "f9ba89eb-b540-4659-fc12-73e262748278"
      },
      "execution_count": null,
      "outputs": [
        {
          "output_type": "stream",
          "name": "stdout",
          "text": [
            "Epoch 1/100\n",
            "101/101 [==============================] - 15s 100ms/step - loss: 0.0135\n",
            "Epoch 2/100\n",
            "101/101 [==============================] - 10s 98ms/step - loss: 0.0044\n",
            "Epoch 3/100\n",
            "101/101 [==============================] - 10s 99ms/step - loss: 0.0049\n",
            "Epoch 4/100\n",
            "101/101 [==============================] - 10s 98ms/step - loss: 0.0046\n",
            "Epoch 5/100\n",
            "101/101 [==============================] - 9s 93ms/step - loss: 0.0042\n",
            "Epoch 6/100\n",
            "101/101 [==============================] - 9s 92ms/step - loss: 0.0037\n",
            "Epoch 7/100\n",
            "101/101 [==============================] - 11s 108ms/step - loss: 0.0033\n",
            "Epoch 8/100\n",
            "101/101 [==============================] - 10s 98ms/step - loss: 0.0034\n",
            "Epoch 9/100\n",
            "101/101 [==============================] - 11s 109ms/step - loss: 0.0036\n",
            "Epoch 10/100\n",
            "101/101 [==============================] - 14s 141ms/step - loss: 0.0031\n",
            "Epoch 11/100\n",
            "101/101 [==============================] - 10s 99ms/step - loss: 0.0031\n",
            "Epoch 12/100\n",
            "101/101 [==============================] - 11s 112ms/step - loss: 0.0036\n",
            "Epoch 13/100\n",
            "101/101 [==============================] - 9s 88ms/step - loss: 0.0025\n",
            "Epoch 14/100\n",
            "101/101 [==============================] - 11s 107ms/step - loss: 0.0031\n",
            "Epoch 15/100\n",
            "101/101 [==============================] - 12s 120ms/step - loss: 0.0025\n",
            "Epoch 16/100\n",
            "101/101 [==============================] - 10s 98ms/step - loss: 0.0024\n",
            "Epoch 17/100\n",
            "101/101 [==============================] - 10s 98ms/step - loss: 0.0025\n",
            "Epoch 18/100\n",
            "101/101 [==============================] - 12s 114ms/step - loss: 0.0024\n",
            "Epoch 19/100\n",
            "101/101 [==============================] - 9s 88ms/step - loss: 0.0024\n",
            "Epoch 20/100\n",
            "101/101 [==============================] - 10s 97ms/step - loss: 0.0023\n",
            "Epoch 21/100\n",
            "101/101 [==============================] - 10s 97ms/step - loss: 0.0022\n",
            "Epoch 22/100\n",
            "101/101 [==============================] - 10s 99ms/step - loss: 0.0022\n",
            "Epoch 23/100\n",
            "101/101 [==============================] - 9s 92ms/step - loss: 0.0023\n",
            "Epoch 24/100\n",
            "101/101 [==============================] - 10s 94ms/step - loss: 0.0020\n",
            "Epoch 25/100\n",
            "101/101 [==============================] - 11s 108ms/step - loss: 0.0020\n",
            "Epoch 26/100\n",
            "101/101 [==============================] - 10s 98ms/step - loss: 0.0019\n",
            "Epoch 27/100\n",
            "101/101 [==============================] - 10s 98ms/step - loss: 0.0020\n",
            "Epoch 28/100\n",
            "101/101 [==============================] - 11s 105ms/step - loss: 0.0017\n",
            "Epoch 29/100\n",
            "101/101 [==============================] - 9s 91ms/step - loss: 0.0018\n",
            "Epoch 30/100\n",
            "101/101 [==============================] - 10s 99ms/step - loss: 0.0020\n",
            "Epoch 31/100\n",
            "101/101 [==============================] - 10s 98ms/step - loss: 0.0017\n",
            "Epoch 32/100\n",
            "101/101 [==============================] - 10s 98ms/step - loss: 0.0016\n",
            "Epoch 33/100\n",
            "101/101 [==============================] - 9s 89ms/step - loss: 0.0018\n",
            "Epoch 34/100\n",
            "101/101 [==============================] - 11s 106ms/step - loss: 0.0017\n",
            "Epoch 35/100\n",
            "101/101 [==============================] - 10s 98ms/step - loss: 0.0016\n",
            "Epoch 36/100\n",
            "101/101 [==============================] - 10s 98ms/step - loss: 0.0015\n",
            "Epoch 37/100\n",
            "101/101 [==============================] - 10s 96ms/step - loss: 0.0015\n",
            "Epoch 38/100\n",
            "101/101 [==============================] - 9s 89ms/step - loss: 0.0016\n",
            "Epoch 39/100\n",
            "101/101 [==============================] - 10s 98ms/step - loss: 0.0016\n",
            "Epoch 40/100\n",
            "101/101 [==============================] - 10s 98ms/step - loss: 0.0015\n",
            "Epoch 41/100\n",
            "101/101 [==============================] - 10s 98ms/step - loss: 0.0017\n",
            "Epoch 42/100\n",
            "101/101 [==============================] - 9s 89ms/step - loss: 0.0016\n",
            "Epoch 43/100\n",
            "101/101 [==============================] - 11s 108ms/step - loss: 0.0015\n",
            "Epoch 44/100\n",
            "101/101 [==============================] - 10s 98ms/step - loss: 0.0015\n",
            "Epoch 45/100\n",
            "101/101 [==============================] - 10s 97ms/step - loss: 0.0014\n",
            "Epoch 46/100\n",
            "101/101 [==============================] - 9s 89ms/step - loss: 0.0014\n",
            "Epoch 47/100\n",
            "101/101 [==============================] - 10s 97ms/step - loss: 0.0014\n",
            "Epoch 48/100\n",
            "101/101 [==============================] - 10s 99ms/step - loss: 0.0013\n",
            "Epoch 49/100\n",
            "101/101 [==============================] - 10s 98ms/step - loss: 0.0012\n",
            "Epoch 50/100\n",
            "101/101 [==============================] - 10s 98ms/step - loss: 0.0014\n",
            "Epoch 51/100\n",
            "101/101 [==============================] - 9s 88ms/step - loss: 0.0013\n",
            "Epoch 52/100\n",
            "101/101 [==============================] - 10s 97ms/step - loss: 0.0015\n",
            "Epoch 53/100\n",
            "101/101 [==============================] - 10s 98ms/step - loss: 0.0013\n",
            "Epoch 54/100\n",
            "101/101 [==============================] - 10s 98ms/step - loss: 0.0013\n",
            "Epoch 55/100\n",
            "101/101 [==============================] - 9s 89ms/step - loss: 0.0014\n",
            "Epoch 56/100\n",
            "101/101 [==============================] - 10s 97ms/step - loss: 0.0012\n",
            "Epoch 57/100\n",
            "101/101 [==============================] - 11s 108ms/step - loss: 0.0013\n",
            "Epoch 58/100\n",
            "101/101 [==============================] - 10s 98ms/step - loss: 0.0013\n",
            "Epoch 59/100\n",
            "101/101 [==============================] - 10s 98ms/step - loss: 0.0012\n",
            "Epoch 60/100\n",
            "101/101 [==============================] - 9s 88ms/step - loss: 0.0013\n",
            "Epoch 61/100\n",
            "101/101 [==============================] - 10s 98ms/step - loss: 0.0013\n",
            "Epoch 62/100\n",
            "101/101 [==============================] - 10s 99ms/step - loss: 0.0012\n",
            "Epoch 63/100\n",
            "101/101 [==============================] - 10s 99ms/step - loss: 0.0013\n",
            "Epoch 64/100\n",
            "101/101 [==============================] - 9s 94ms/step - loss: 0.0012\n",
            "Epoch 65/100\n",
            "101/101 [==============================] - 9s 91ms/step - loss: 0.0011\n",
            "Epoch 66/100\n",
            "101/101 [==============================] - 10s 97ms/step - loss: 0.0012\n",
            "Epoch 67/100\n",
            "101/101 [==============================] - 10s 97ms/step - loss: 0.0012\n",
            "Epoch 68/100\n",
            "101/101 [==============================] - 10s 98ms/step - loss: 0.0013\n",
            "Epoch 69/100\n",
            "101/101 [==============================] - 9s 88ms/step - loss: 0.0012\n",
            "Epoch 70/100\n",
            "101/101 [==============================] - 10s 97ms/step - loss: 0.0013\n",
            "Epoch 71/100\n",
            "101/101 [==============================] - 10s 98ms/step - loss: 0.0013\n",
            "Epoch 72/100\n",
            "101/101 [==============================] - 11s 108ms/step - loss: 0.0012\n",
            "Epoch 73/100\n",
            "101/101 [==============================] - 10s 97ms/step - loss: 0.0013\n",
            "Epoch 74/100\n",
            "101/101 [==============================] - 9s 89ms/step - loss: 0.0012\n",
            "Epoch 75/100\n",
            "101/101 [==============================] - 10s 97ms/step - loss: 0.0013\n",
            "Epoch 76/100\n",
            "101/101 [==============================] - 10s 97ms/step - loss: 0.0013\n",
            "Epoch 77/100\n",
            "101/101 [==============================] - 10s 97ms/step - loss: 0.0013\n",
            "Epoch 78/100\n",
            "101/101 [==============================] - 9s 88ms/step - loss: 0.0011\n",
            "Epoch 79/100\n",
            "101/101 [==============================] - 10s 98ms/step - loss: 0.0012\n",
            "Epoch 80/100\n",
            "101/101 [==============================] - 10s 98ms/step - loss: 0.0012\n",
            "Epoch 81/100\n",
            "101/101 [==============================] - 10s 99ms/step - loss: 0.0012\n",
            "Epoch 82/100\n",
            "101/101 [==============================] - 10s 97ms/step - loss: 0.0010\n",
            "Epoch 83/100\n",
            "101/101 [==============================] - 9s 94ms/step - loss: 0.0012\n",
            "Epoch 84/100\n",
            "101/101 [==============================] - 10s 100ms/step - loss: 0.0012\n",
            "Epoch 85/100\n",
            "101/101 [==============================] - 10s 101ms/step - loss: 0.0011\n",
            "Epoch 86/100\n",
            "101/101 [==============================] - 11s 109ms/step - loss: 0.0011\n",
            "Epoch 87/100\n",
            "101/101 [==============================] - 9s 92ms/step - loss: 0.0012\n",
            "Epoch 88/100\n",
            "101/101 [==============================] - 10s 96ms/step - loss: 0.0011\n",
            "Epoch 89/100\n",
            "101/101 [==============================] - 10s 99ms/step - loss: 0.0012\n",
            "Epoch 90/100\n",
            "101/101 [==============================] - 10s 98ms/step - loss: 0.0011\n",
            "Epoch 91/100\n",
            "101/101 [==============================] - 10s 98ms/step - loss: 0.0011\n",
            "Epoch 92/100\n",
            "101/101 [==============================] - 9s 89ms/step - loss: 0.0012\n",
            "Epoch 93/100\n",
            "101/101 [==============================] - 10s 98ms/step - loss: 0.0012\n",
            "Epoch 94/100\n",
            "101/101 [==============================] - 10s 98ms/step - loss: 0.0010\n",
            "Epoch 95/100\n",
            "101/101 [==============================] - 10s 99ms/step - loss: 0.0010\n",
            "Epoch 96/100\n",
            "101/101 [==============================] - 9s 92ms/step - loss: 0.0011\n",
            "Epoch 97/100\n",
            "101/101 [==============================] - 10s 95ms/step - loss: 0.0011\n",
            "Epoch 98/100\n",
            "101/101 [==============================] - 10s 99ms/step - loss: 0.0010\n",
            "Epoch 99/100\n",
            "101/101 [==============================] - 10s 98ms/step - loss: 0.0012\n",
            "Epoch 100/100\n",
            "101/101 [==============================] - 10s 98ms/step - loss: 0.0011\n"
          ]
        }
      ]
    },
    {
      "cell_type": "code",
      "source": [
        "testData = data.iloc[:,3:4] # Get 'Close' feature\n",
        "y_real=testData.iloc[feature_length+1:,0:].values #Actual values\n",
        "x_test = testData.iloc[:,0:].values # data to test\n",
        "# normalizing the Data using Scaler.transform function\n",
        "x_test = Scaler.transform(x_test)\n",
        "x_test, y_test = Create_Features_and_Targets(x_test, feature_length)\n",
        "# Making data 3 dimensional\n",
        "x_test = np.reshape(x_test,(x_test.shape[0],x_test.shape[1],1))"
      ],
      "metadata": {
        "id": "tirzxHjdh8Dl"
      },
      "execution_count": null,
      "outputs": []
    },
    {
      "cell_type": "code",
      "source": [
        "y_pred = model.predict(x_test)\n",
        "predicted_price = Scaler.inverse_transform(y_pred)\n"
      ],
      "metadata": {
        "colab": {
          "base_uri": "https://localhost:8080/"
        },
        "id": "TVdPK-PEh-EY",
        "outputId": "56c19a09-948e-4b26-8251-8ec5abe635ff"
      },
      "execution_count": null,
      "outputs": [
        {
          "output_type": "stream",
          "name": "stdout",
          "text": [
            "38/38 [==============================] - 3s 49ms/step\n"
          ]
        }
      ]
    },
    {
      "cell_type": "code",
      "source": [
        "plt.plot(y_real, color = 'red', label = 'Actual')\n",
        "plt.plot(predicted_price, color = 'green', label = 'Predicted')\n",
        "plt.xlabel('Time')\n",
        "plt.ylabel('Stock')\n",
        "plt.legend()\n",
        "plt.show()"
      ],
      "metadata": {
        "colab": {
          "base_uri": "https://localhost:8080/",
          "height": 254
        },
        "id": "0eJlDLs-iD5t",
        "outputId": "3c86a7ec-d7f9-4ed5-82ae-2e4bb9dfc5c2"
      },
      "execution_count": null,
      "outputs": [
        {
          "output_type": "display_data",
          "data": {
            "text/plain": [
              "<Figure size 640x480 with 1 Axes>"
            ],
            "image/png": "[encoded data removed]"
          },
          "metadata": {}
        }
      ]
    },
    {
      "cell_type": "code",
      "source": [
        "def predict_given_date(data, date, feature_length):\n",
        "  if date not in data.index:\n",
        "     data.loc[pd.Timestamp(date)] = 0\n",
        "  idx = data.index.get_loc(date)\n",
        "  close_col = data.iloc[:,3:4]\n",
        "  close_col = close_col.iloc[idx - feature_length : idx,:].values\n",
        "  close_col = np.expand_dims(Scaler.transform(close_col) , axis = 0)\n",
        "  Prediction = model.predict(close_col)\n",
        "  Prediction = Scaler.inverse_transform(Prediction)\n",
        "  return Prediction\n",
        "# calling the function\n",
        "predict_given_date(data, '2024-03-06', feature_length)\n"
      ],
      "metadata": {
        "colab": {
          "base_uri": "https://localhost:8080/"
        },
        "id": "3OXtrD4siMH8",
        "outputId": "1771e98d-0237-44ff-e9e3-30a4c207d3d9"
      },
      "execution_count": null,
      "outputs": [
        {
          "output_type": "stream",
          "name": "stdout",
          "text": [
            "1/1 [==============================] - 0s 42ms/step\n"
          ]
        },
        {
          "output_type": "execute_result",
          "data": {
            "text/plain": [
              "array([[132.38777]], dtype=float32)"
            ]
          },
          "metadata": {},
          "execution_count": 40
        }
      ]
    },
    {
      "cell_type": "code",
      "source": [
        "# only gives the dates that already exists in the dataset\n",
        "l = data.index.get_loc('2024-03-07')\n",
        "data.iloc[l: l+1,:]['Close']\n",
        "# well we can see the predicted value is very close"
      ],
      "metadata": {
        "colab": {
          "base_uri": "https://localhost:8080/"
        },
        "id": "pNkdfxqeiTBK",
        "outputId": "3dca30f9-b20f-436f-8d96-2374c97befb9"
      },
      "execution_count": null,
      "outputs": [
        {
          "output_type": "execute_result",
          "data": {
            "text/plain": [
              "Date\n",
              "2024-03-07    134.380005\n",
              "Name: Close, dtype: float64"
            ]
          },
          "metadata": {},
          "execution_count": 38
        }
      ]
    }
  ]
}