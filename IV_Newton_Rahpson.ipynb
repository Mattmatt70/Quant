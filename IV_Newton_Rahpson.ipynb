{
  "nbformat": 4,
  "nbformat_minor": 0,
  "metadata": {
    "colab": {
      "provenance": []
    },
    "kernelspec": {
      "name": "python3",
      "display_name": "Python 3"
    },
    "language_info": {
      "name": "python"
    }
  },
  "cells": [
    {
      "cell_type": "code",
      "source": [
        "import math\n",
        "\n",
        "def call_vega(S, K, r, sigma, T):\n",
        "    def norm_pdf(x):\n",
        "        return math.exp(-0.5 * x**2) / math.sqrt(2 * math.pi)\n",
        "\n",
        "    d1 = (math.log(S / K) + (r + 0.5 * sigma**2) * T) / (sigma * math.sqrt(T))\n",
        "    vega = S * math.sqrt(T) * norm_pdf(d1)\n",
        "    return vega\n",
        "\n",
        "class BlackScholesCall:\n",
        "    def __init__(self, S, K, r, T):\n",
        "        self.S = S\n",
        "        self.K = K\n",
        "        self.r = r\n",
        "        self.T = T\n",
        "\n",
        "    def option_price(self, sigma):\n",
        "        return self.call_price(self.S, self.K, self.r, sigma, self.T)\n",
        "\n",
        "    def option_vega(self, sigma):\n",
        "        return call_vega(self.S, self.K, self.r, sigma, self.T)\n",
        "\n",
        "    def call_price(self, S, K, r, sigma, T):\n",
        "        d1 = (math.log(S / K) + (r + 0.5 * sigma**2) * T) / (sigma * math.sqrt(T))\n",
        "        d2 = d1 - sigma * math.sqrt(T)\n",
        "        N_d1 = 0.5 * (1 + math.erf(d1 / math.sqrt(2)))\n",
        "        N_d2 = 0.5 * (1 + math.erf(d2 / math.sqrt(2)))\n",
        "        call_price = S * N_d1 - K * math.exp(-r * T) * N_d2\n",
        "        return call_price\n",
        "\n",
        "def newton_raphson(y_target, init, epsilon, root_func):\n",
        "    y = root_func.option_price(init)\n",
        "    x = init\n",
        "\n",
        "    while abs(y - y_target) > epsilon:\n",
        "        d_x = root_func.option_vega(x)\n",
        "        x += (y_target - y) / d_x\n",
        "        y = root_func.option_price(x)\n",
        "\n",
        "    return x\n",
        "\n",
        "def main():\n",
        "    S = 120.0\n",
        "    K = 110.0\n",
        "    r = 0.03\n",
        "    T = 0.5\n",
        "\n",
        "    C_M = 15.0\n",
        "\n",
        "    bsc = BlackScholesCall(S, K, r, T)\n",
        "    init = 0.3\n",
        "    epsilon = 0.001\n",
        "\n",
        "    sigma = newton_raphson(C_M, init, epsilon, bsc)\n",
        "\n",
        "    print(\"Implied Volatility :\", sigma)\n",
        "    print(f\"The Implied Volatility is approximately : {round(sigma * 100, 2)}%\")\n",
        "\n",
        "if __name__ == \"__main__\":\n",
        "    main()\n"
      ],
      "metadata": {
        "colab": {
          "base_uri": "https://localhost:8080/"
        },
        "id": "cHUCWlNrrPsl",
        "outputId": "324aefe1-8acc-4641-e092-9e26b9d1d9a0"
      },
      "execution_count": null,
      "outputs": [
        {
          "output_type": "stream",
          "name": "stdout",
          "text": [
            "Implied Volatility : 0.24411343294573645\n",
            "The Implied Volatility is approximately : 24.41%\n"
          ]
        }
      ]
    }
  ]
}